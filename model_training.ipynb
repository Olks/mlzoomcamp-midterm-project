{
 "cells": [
  {
   "cell_type": "markdown",
   "id": "5c3fd3a4-05fc-42b0-8ea2-f490ce0ce94b",
   "metadata": {},
   "source": [
    "# Notebook 2 \n",
    "## Sleep Detection - Model Training\n",
    "In <b>Notebook 1 Sleep Detection - EDA</b> we have:\n",
    "- explored the data to see if values are as expected from the description,\n",
    "- checked if we have missing values,\n",
    "- calculated correlations and saved highly correlated features into a file -> <b>\"features_to_exclude.txt\"</b>\n",
    "\n",
    "In this notebook we continue with:\n",
    "- defining our metrics,\n",
    "- shuffle the data and split into training, validation and test set,\n",
    "- training the first basic Decision Tree model,\n",
    "- tuning Decision Tree hyperparameters,\n",
    "- training and tuning XGBoost model."
   ]
  },
  {
   "cell_type": "code",
   "execution_count": 165,
   "id": "a7adbd58-ea76-45ad-b106-e21293c443fb",
   "metadata": {},
   "outputs": [],
   "source": [
    "import pandas as pd\n",
    "import numpy as np\n",
    "import datetime\n",
    "import pickle\n",
    "import matplotlib.pyplot as plt\n",
    "\n",
    "import polars as pl\n",
    "pl.Config.set_fmt_str_lengths(100)\n",
    "\n",
    "import plotly.express as px\n",
    "import plotly.graph_objects as go\n",
    "from plotly.subplots import make_subplots\n",
    "\n",
    "from sklearn.model_selection import train_test_split\n",
    "from sklearn.feature_extraction import DictVectorizer\n",
    "from sklearn.tree import DecisionTreeClassifier\n",
    "from sklearn.tree import export_text\n",
    "\n",
    "import xgboost as xgb\n",
    "from xgboost import plot_importance\n",
    "\n",
    "from helpers import create_rolling_features, concat_in_order"
   ]
  },
  {
   "cell_type": "markdown",
   "id": "7961fab0-063f-4b61-9e24-a9cde25fe6b7",
   "metadata": {},
   "source": [
    "#### Loading the dataset\n",
    "- Load and check it again, first few rows and if it contains nulls."
   ]
  },
  {
   "cell_type": "code",
   "execution_count": 2,
   "id": "68bf0bc0-211e-443e-a109-f20dbc8b1e66",
   "metadata": {},
   "outputs": [],
   "source": [
    "train_data_file = 'data/sleep_data_120series_7days.csv'\n",
    "df = pl.read_csv(train_data_file, dtypes={\n",
    "    \"dt_minute\":pl.Datetime\n",
    "}).sort(by=[\"series_id\",\"dt_minute\"])"
   ]
  },
  {
   "cell_type": "code",
   "execution_count": 3,
   "id": "a826c2d9-c133-4cac-80c8-af038c7e25a5",
   "metadata": {},
   "outputs": [
    {
     "data": {
      "text/html": [
       "<div><style>\n",
       ".dataframe > thead > tr > th,\n",
       ".dataframe > tbody > tr > td {\n",
       "  text-align: right;\n",
       "  white-space: pre-wrap;\n",
       "}\n",
       "</style>\n",
       "<small>shape: (5, 6)</small><table border=\"1\" class=\"dataframe\"><thead><tr><th>series_id</th><th>step</th><th>dt_minute</th><th>anglez</th><th>enmo</th><th>target</th></tr><tr><td>str</td><td>i64</td><td>datetime[μs]</td><td>i64</td><td>i64</td><td>i64</td></tr></thead><tbody><tr><td>&quot;038441c925bb&quot;</td><td>0</td><td>2018-08-14 15:30:00</td><td>2</td><td>21</td><td>0</td></tr><tr><td>&quot;038441c925bb&quot;</td><td>12</td><td>2018-08-14 15:31:00</td><td>27</td><td>19</td><td>0</td></tr><tr><td>&quot;038441c925bb&quot;</td><td>24</td><td>2018-08-14 15:32:00</td><td>-46</td><td>17</td><td>0</td></tr><tr><td>&quot;038441c925bb&quot;</td><td>36</td><td>2018-08-14 15:33:00</td><td>-79</td><td>13</td><td>0</td></tr><tr><td>&quot;038441c925bb&quot;</td><td>48</td><td>2018-08-14 15:34:00</td><td>-79</td><td>13</td><td>0</td></tr></tbody></table></div>"
      ],
      "text/plain": [
       "shape: (5, 6)\n",
       "┌──────────────┬──────┬─────────────────────┬────────┬──────┬────────┐\n",
       "│ series_id    ┆ step ┆ dt_minute           ┆ anglez ┆ enmo ┆ target │\n",
       "│ ---          ┆ ---  ┆ ---                 ┆ ---    ┆ ---  ┆ ---    │\n",
       "│ str          ┆ i64  ┆ datetime[μs]        ┆ i64    ┆ i64  ┆ i64    │\n",
       "╞══════════════╪══════╪═════════════════════╪════════╪══════╪════════╡\n",
       "│ 038441c925bb ┆ 0    ┆ 2018-08-14 15:30:00 ┆ 2      ┆ 21   ┆ 0      │\n",
       "│ 038441c925bb ┆ 12   ┆ 2018-08-14 15:31:00 ┆ 27     ┆ 19   ┆ 0      │\n",
       "│ 038441c925bb ┆ 24   ┆ 2018-08-14 15:32:00 ┆ -46    ┆ 17   ┆ 0      │\n",
       "│ 038441c925bb ┆ 36   ┆ 2018-08-14 15:33:00 ┆ -79    ┆ 13   ┆ 0      │\n",
       "│ 038441c925bb ┆ 48   ┆ 2018-08-14 15:34:00 ┆ -79    ┆ 13   ┆ 0      │\n",
       "└──────────────┴──────┴─────────────────────┴────────┴──────┴────────┘"
      ]
     },
     "execution_count": 3,
     "metadata": {},
     "output_type": "execute_result"
    }
   ],
   "source": [
    "df.head()"
   ]
  },
  {
   "cell_type": "code",
   "execution_count": 4,
   "id": "49ca439a-b16d-47a6-aefc-51a5a30ad3e8",
   "metadata": {},
   "outputs": [
    {
     "data": {
      "text/html": [
       "<div><style>\n",
       ".dataframe > thead > tr > th,\n",
       ".dataframe > tbody > tr > td {\n",
       "  text-align: right;\n",
       "  white-space: pre-wrap;\n",
       "}\n",
       "</style>\n",
       "<small>shape: (1, 6)</small><table border=\"1\" class=\"dataframe\"><thead><tr><th>series_id</th><th>step</th><th>dt_minute</th><th>anglez</th><th>enmo</th><th>target</th></tr><tr><td>u32</td><td>u32</td><td>u32</td><td>u32</td><td>u32</td><td>u32</td></tr></thead><tbody><tr><td>0</td><td>0</td><td>0</td><td>0</td><td>0</td><td>0</td></tr></tbody></table></div>"
      ],
      "text/plain": [
       "shape: (1, 6)\n",
       "┌───────────┬──────┬───────────┬────────┬──────┬────────┐\n",
       "│ series_id ┆ step ┆ dt_minute ┆ anglez ┆ enmo ┆ target │\n",
       "│ ---       ┆ ---  ┆ ---       ┆ ---    ┆ ---  ┆ ---    │\n",
       "│ u32       ┆ u32  ┆ u32       ┆ u32    ┆ u32  ┆ u32    │\n",
       "╞═══════════╪══════╪═══════════╪════════╪══════╪════════╡\n",
       "│ 0         ┆ 0    ┆ 0         ┆ 0      ┆ 0    ┆ 0      │\n",
       "└───────────┴──────┴───────────┴────────┴──────┴────────┘"
      ]
     },
     "execution_count": 4,
     "metadata": {},
     "output_type": "execute_result"
    }
   ],
   "source": [
    "df.select(pl.all().is_null().sum())"
   ]
  },
  {
   "cell_type": "markdown",
   "id": "c6341f15-2458-4bc4-89e9-9cee9a369088",
   "metadata": {},
   "source": [
    "#### Create sleeping time features"
   ]
  },
  {
   "cell_type": "code",
   "execution_count": 5,
   "id": "de38a182-4a96-408b-9090-4031aeaf2f19",
   "metadata": {},
   "outputs": [],
   "source": [
    "df = df.with_columns(\n",
    "    pl.col('dt_minute').dt.hour().alias('hour')\n",
    ")"
   ]
  },
  {
   "cell_type": "code",
   "execution_count": 6,
   "id": "319e042c-6a3b-4e80-8c55-38347bdbd20a",
   "metadata": {},
   "outputs": [],
   "source": [
    "def create_sleeping_time_vars(df):\n",
    "    df = df.with_columns(\n",
    "        pl.when(pl.col(\"hour\").is_in([22,23,0,1,2,3,4,5,6,7,8]))\n",
    "        .then(1)\n",
    "        .otherwise(0)\n",
    "        .alias('night')\n",
    "    )\n",
    "    return df"
   ]
  },
  {
   "cell_type": "code",
   "execution_count": 7,
   "id": "f122fe87-9054-47fd-a8bb-85e340b32f66",
   "metadata": {},
   "outputs": [],
   "source": [
    "df = create_sleeping_time_vars(df)"
   ]
  },
  {
   "cell_type": "code",
   "execution_count": 8,
   "id": "dc5ee0c0-503a-42d2-96c9-dd688f2a8d02",
   "metadata": {},
   "outputs": [
    {
     "data": {
      "text/html": [
       "<div><style>\n",
       ".dataframe > thead > tr > th,\n",
       ".dataframe > tbody > tr > td {\n",
       "  text-align: right;\n",
       "  white-space: pre-wrap;\n",
       "}\n",
       "</style>\n",
       "<small>shape: (5, 8)</small><table border=\"1\" class=\"dataframe\"><thead><tr><th>series_id</th><th>step</th><th>dt_minute</th><th>anglez</th><th>enmo</th><th>target</th><th>hour</th><th>night</th></tr><tr><td>str</td><td>i64</td><td>datetime[μs]</td><td>i64</td><td>i64</td><td>i64</td><td>u32</td><td>i32</td></tr></thead><tbody><tr><td>&quot;038441c925bb&quot;</td><td>0</td><td>2018-08-14 15:30:00</td><td>2</td><td>21</td><td>0</td><td>15</td><td>0</td></tr><tr><td>&quot;038441c925bb&quot;</td><td>12</td><td>2018-08-14 15:31:00</td><td>27</td><td>19</td><td>0</td><td>15</td><td>0</td></tr><tr><td>&quot;038441c925bb&quot;</td><td>24</td><td>2018-08-14 15:32:00</td><td>-46</td><td>17</td><td>0</td><td>15</td><td>0</td></tr><tr><td>&quot;038441c925bb&quot;</td><td>36</td><td>2018-08-14 15:33:00</td><td>-79</td><td>13</td><td>0</td><td>15</td><td>0</td></tr><tr><td>&quot;038441c925bb&quot;</td><td>48</td><td>2018-08-14 15:34:00</td><td>-79</td><td>13</td><td>0</td><td>15</td><td>0</td></tr></tbody></table></div>"
      ],
      "text/plain": [
       "shape: (5, 8)\n",
       "┌──────────────┬──────┬─────────────────────┬────────┬──────┬────────┬──────┬───────┐\n",
       "│ series_id    ┆ step ┆ dt_minute           ┆ anglez ┆ enmo ┆ target ┆ hour ┆ night │\n",
       "│ ---          ┆ ---  ┆ ---                 ┆ ---    ┆ ---  ┆ ---    ┆ ---  ┆ ---   │\n",
       "│ str          ┆ i64  ┆ datetime[μs]        ┆ i64    ┆ i64  ┆ i64    ┆ u32  ┆ i32   │\n",
       "╞══════════════╪══════╪═════════════════════╪════════╪══════╪════════╪══════╪═══════╡\n",
       "│ 038441c925bb ┆ 0    ┆ 2018-08-14 15:30:00 ┆ 2      ┆ 21   ┆ 0      ┆ 15   ┆ 0     │\n",
       "│ 038441c925bb ┆ 12   ┆ 2018-08-14 15:31:00 ┆ 27     ┆ 19   ┆ 0      ┆ 15   ┆ 0     │\n",
       "│ 038441c925bb ┆ 24   ┆ 2018-08-14 15:32:00 ┆ -46    ┆ 17   ┆ 0      ┆ 15   ┆ 0     │\n",
       "│ 038441c925bb ┆ 36   ┆ 2018-08-14 15:33:00 ┆ -79    ┆ 13   ┆ 0      ┆ 15   ┆ 0     │\n",
       "│ 038441c925bb ┆ 48   ┆ 2018-08-14 15:34:00 ┆ -79    ┆ 13   ┆ 0      ┆ 15   ┆ 0     │\n",
       "└──────────────┴──────┴─────────────────────┴────────┴──────┴────────┴──────┴───────┘"
      ]
     },
     "execution_count": 8,
     "metadata": {},
     "output_type": "execute_result"
    }
   ],
   "source": [
    "df.head()"
   ]
  },
  {
   "cell_type": "markdown",
   "id": "997b6868-e7d9-4627-b22e-5f7687bd5a33",
   "metadata": {},
   "source": [
    "#### Calculate rolling features"
   ]
  },
  {
   "cell_type": "code",
   "execution_count": 9,
   "id": "85c5de1d-d52a-4943-a037-b564a5446f70",
   "metadata": {},
   "outputs": [],
   "source": [
    "df = create_rolling_features(df)"
   ]
  },
  {
   "cell_type": "code",
   "execution_count": 10,
   "id": "e661523f-a96e-462e-98fc-f430283055dd",
   "metadata": {},
   "outputs": [
    {
     "data": {
      "text/html": [
       "<div><style>\n",
       ".dataframe > thead > tr > th,\n",
       ".dataframe > tbody > tr > td {\n",
       "  text-align: right;\n",
       "  white-space: pre-wrap;\n",
       "}\n",
       "</style>\n",
       "<small>shape: (5, 56)</small><table border=\"1\" class=\"dataframe\"><thead><tr><th>series_id</th><th>step</th><th>dt_minute</th><th>anglez</th><th>enmo</th><th>target</th><th>hour</th><th>night</th><th>enmo_15m_mean</th><th>enmo_15m_max</th><th>enmo_15m_min</th><th>enmo_15m_std</th><th>enmo_diffs_15m_sum</th><th>anglez_15m_mean</th><th>anglez_15m_max</th><th>anglez_15m_min</th><th>anglez_15m_std</th><th>anglez_diffs_15m_sum</th><th>enmo_60m_mean</th><th>enmo_60m_max</th><th>enmo_60m_min</th><th>enmo_60m_std</th><th>enmo_diffs_60m_sum</th><th>anglez_60m_mean</th><th>anglez_60m_max</th><th>anglez_60m_min</th><th>anglez_60m_std</th><th>anglez_diffs_60m_sum</th><th>enmo_180m_mean</th><th>enmo_180m_max</th><th>enmo_180m_min</th><th>enmo_180m_std</th><th>enmo_diffs_180m_sum</th><th>anglez_180m_mean</th><th>anglez_180m_max</th><th>anglez_180m_min</th><th>anglez_180m_std</th><th>anglez_diffs_180m_sum</th><th>enmo_480m_mean</th><th>enmo_480m_max</th><th>enmo_480m_min</th><th>enmo_480m_std</th><th>enmo_diffs_480m_sum</th><th>anglez_480m_mean</th><th>anglez_480m_max</th><th>anglez_480m_min</th><th>anglez_480m_std</th><th>anglez_diffs_480m_sum</th><th>enmo_diffs_sum_div_max_min_15m</th><th>anglez_diffs_sum_div_max_min_15m</th><th>enmo_diffs_sum_div_max_min_60m</th><th>anglez_diffs_sum_div_max_min_60m</th><th>enmo_diffs_sum_div_max_min_180m</th><th>anglez_diffs_sum_div_max_min_180m</th><th>enmo_diffs_sum_div_max_min_480m</th><th>anglez_diffs_sum_div_max_min_480m</th></tr><tr><td>str</td><td>i64</td><td>datetime[μs]</td><td>i64</td><td>i64</td><td>i64</td><td>u32</td><td>i32</td><td>f64</td><td>i64</td><td>i64</td><td>f64</td><td>f64</td><td>f64</td><td>i64</td><td>i64</td><td>f64</td><td>f64</td><td>f64</td><td>i64</td><td>i64</td><td>f64</td><td>f64</td><td>f64</td><td>i64</td><td>i64</td><td>f64</td><td>f64</td><td>f64</td><td>i64</td><td>i64</td><td>f64</td><td>f64</td><td>f64</td><td>i64</td><td>i64</td><td>f64</td><td>f64</td><td>f64</td><td>i64</td><td>i64</td><td>f64</td><td>f64</td><td>f64</td><td>i64</td><td>i64</td><td>f64</td><td>f64</td><td>f64</td><td>f64</td><td>f64</td><td>f64</td><td>f64</td><td>f64</td><td>f64</td><td>f64</td></tr></thead><tbody><tr><td>&quot;038441c925bb&quot;</td><td>0</td><td>2018-08-14 15:30:00</td><td>2</td><td>21</td><td>0</td><td>15</td><td>0</td><td>15.0</td><td>21</td><td>12</td><td>3.505098</td><td>1.496026</td><td>-51.5</td><td>27</td><td>-79</td><td>42.82189</td><td>27.662937</td><td>14.0</td><td>21</td><td>12</td><td>2.363516</td><td>1.814691</td><td>-72.966667</td><td>27</td><td>-84</td><td>24.864437</td><td>14.999179</td><td>55.766667</td><td>485</td><td>12</td><td>80.277335</td><td>69.4788</td><td>-52.033333</td><td>40</td><td>-85</td><td>35.137435</td><td>11.674958</td><td>74.983333</td><td>485</td><td>7</td><td>71.453175</td><td>52.853957</td><td>-24.658333</td><td>48</td><td>-85</td><td>33.31955</td><td>11.134954</td><td>0.149603</td><td>0.258532</td><td>0.181469</td><td>0.133921</td><td>0.14658</td><td>0.092658</td><td>0.110342</td><td>0.083097</td></tr><tr><td>&quot;038441c925bb&quot;</td><td>12</td><td>2018-08-14 15:31:00</td><td>27</td><td>19</td><td>0</td><td>15</td><td>0</td><td>14.777778</td><td>21</td><td>12</td><td>3.34581</td><td>1.38873</td><td>-54.666667</td><td>27</td><td>-80</td><td>41.167341</td><td>26.365562</td><td>13.967742</td><td>21</td><td>12</td><td>2.330721</td><td>1.799106</td><td>-73.225806</td><td>27</td><td>-84</td><td>24.489058</td><td>14.758633</td><td>56.263736</td><td>485</td><td>12</td><td>79.970805</td><td>69.164881</td><td>-50.956044</td><td>46</td><td>-85</td><td>36.421578</td><td>11.609415</td><td>74.80083</td><td>485</td><td>7</td><td>71.360424</td><td>52.785473</td><td>-24.443983</td><td>48</td><td>-85</td><td>33.416157</td><td>11.220945</td><td>0.138873</td><td>0.244126</td><td>0.179911</td><td>0.131774</td><td>0.145917</td><td>0.08795</td><td>0.110199</td><td>0.083738</td></tr><tr><td>&quot;038441c925bb&quot;</td><td>24</td><td>2018-08-14 15:32:00</td><td>-46</td><td>17</td><td>0</td><td>15</td><td>0</td><td>14.5</td><td>21</td><td>12</td><td>3.27448</td><td>1.301708</td><td>-57.2</td><td>27</td><td>-80</td><td>39.631076</td><td>25.268558</td><td>14.0</td><td>21</td><td>12</td><td>2.30007</td><td>1.773763</td><td>-73.5</td><td>27</td><td>-84</td><td>24.140717</td><td>14.529244</td><td>56.26087</td><td>485</td><td>12</td><td>79.530196</td><td>68.791621</td><td>-49.945652</td><td>46</td><td>-85</td><td>37.495015</td><td>11.548179</td><td>74.595041</td><td>485</td><td>7</td><td>71.284141</td><td>52.707502</td><td>-24.136364</td><td>50</td><td>-85</td><td>33.688375</td><td>11.229315</td><td>0.130171</td><td>0.233968</td><td>0.177376</td><td>0.129725</td><td>0.14513</td><td>0.087486</td><td>0.110037</td><td>0.082568</td></tr><tr><td>&quot;038441c925bb&quot;</td><td>36</td><td>2018-08-14 15:33:00</td><td>-79</td><td>13</td><td>0</td><td>15</td><td>0</td><td>14.272727</td><td>21</td><td>12</td><td>3.196589</td><td>1.286684</td><td>-59.181818</td><td>27</td><td>-80</td><td>38.167573</td><td>24.212256</td><td>14.030303</td><td>21</td><td>12</td><td>2.270529</td><td>1.759765</td><td>-73.757576</td><td>27</td><td>-84</td><td>23.806551</td><td>14.319933</td><td>56.580645</td><td>485</td><td>12</td><td>79.156878</td><td>68.413245</td><td>-48.892473</td><td>48</td><td>-85</td><td>38.649052</td><td>11.484758</td><td>74.349794</td><td>485</td><td>7</td><td>71.239361</td><td>52.621494</td><td>-23.843621</td><td>50</td><td>-85</td><td>33.927003</td><td>11.214896</td><td>0.128668</td><td>0.224188</td><td>0.175977</td><td>0.127857</td><td>0.144332</td><td>0.085707</td><td>0.109857</td><td>0.082462</td></tr><tr><td>&quot;038441c925bb&quot;</td><td>48</td><td>2018-08-14 15:34:00</td><td>-79</td><td>13</td><td>0</td><td>15</td><td>0</td><td>14.083333</td><td>21</td><td>12</td><td>3.117643</td><td>1.264911</td><td>-60.916667</td><td>27</td><td>-80</td><td>36.884237</td><td>23.267222</td><td>14.029412</td><td>21</td><td>12</td><td>2.235869</td><td>1.732597</td><td>-74.029412</td><td>27</td><td>-84</td><td>23.496596</td><td>14.110025</td><td>57.0</td><td>485</td><td>12</td><td>78.835067</td><td>68.081536</td><td>-48.148936</td><td>48</td><td>-85</td><td>39.110804</td><td>11.615419</td><td>74.20082</td><td>485</td><td>7</td><td>71.130702</td><td>52.517697</td><td>-23.659836</td><td>50</td><td>-85</td><td>33.978616</td><td>11.239129</td><td>0.126491</td><td>0.215437</td><td>0.17326</td><td>0.125982</td><td>0.143632</td><td>0.086682</td><td>0.10964</td><td>0.082641</td></tr></tbody></table></div>"
      ],
      "text/plain": [
       "shape: (5, 56)\n",
       "┌─────────────┬──────┬────────────┬────────┬───┬────────────┬────────────┬────────────┬────────────┐\n",
       "│ series_id   ┆ step ┆ dt_minute  ┆ anglez ┆ … ┆ enmo_diffs ┆ anglez_dif ┆ enmo_diffs ┆ anglez_dif │\n",
       "│ ---         ┆ ---  ┆ ---        ┆ ---    ┆   ┆ _sum_div_m ┆ fs_sum_div ┆ _sum_div_m ┆ fs_sum_div │\n",
       "│ str         ┆ i64  ┆ datetime[μ ┆ i64    ┆   ┆ ax_min_180 ┆ _max_min_1 ┆ ax_min_480 ┆ _max_min_4 │\n",
       "│             ┆      ┆ s]         ┆        ┆   ┆ m          ┆ 80m        ┆ m          ┆ 80m        │\n",
       "│             ┆      ┆            ┆        ┆   ┆ ---        ┆ ---        ┆ ---        ┆ ---        │\n",
       "│             ┆      ┆            ┆        ┆   ┆ f64        ┆ f64        ┆ f64        ┆ f64        │\n",
       "╞═════════════╪══════╪════════════╪════════╪═══╪════════════╪════════════╪════════════╪════════════╡\n",
       "│ 038441c925b ┆ 0    ┆ 2018-08-14 ┆ 2      ┆ … ┆ 0.14658    ┆ 0.092658   ┆ 0.110342   ┆ 0.083097   │\n",
       "│ b           ┆      ┆ 15:30:00   ┆        ┆   ┆            ┆            ┆            ┆            │\n",
       "│ 038441c925b ┆ 12   ┆ 2018-08-14 ┆ 27     ┆ … ┆ 0.145917   ┆ 0.08795    ┆ 0.110199   ┆ 0.083738   │\n",
       "│ b           ┆      ┆ 15:31:00   ┆        ┆   ┆            ┆            ┆            ┆            │\n",
       "│ 038441c925b ┆ 24   ┆ 2018-08-14 ┆ -46    ┆ … ┆ 0.14513    ┆ 0.087486   ┆ 0.110037   ┆ 0.082568   │\n",
       "│ b           ┆      ┆ 15:32:00   ┆        ┆   ┆            ┆            ┆            ┆            │\n",
       "│ 038441c925b ┆ 36   ┆ 2018-08-14 ┆ -79    ┆ … ┆ 0.144332   ┆ 0.085707   ┆ 0.109857   ┆ 0.082462   │\n",
       "│ b           ┆      ┆ 15:33:00   ┆        ┆   ┆            ┆            ┆            ┆            │\n",
       "│ 038441c925b ┆ 48   ┆ 2018-08-14 ┆ -79    ┆ … ┆ 0.143632   ┆ 0.086682   ┆ 0.10964    ┆ 0.082641   │\n",
       "│ b           ┆      ┆ 15:34:00   ┆        ┆   ┆            ┆            ┆            ┆            │\n",
       "└─────────────┴──────┴────────────┴────────┴───┴────────────┴────────────┴────────────┴────────────┘"
      ]
     },
     "execution_count": 10,
     "metadata": {},
     "output_type": "execute_result"
    }
   ],
   "source": [
    "df.head()"
   ]
  },
  {
   "cell_type": "markdown",
   "id": "3b86a28a-0b41-4f50-b90a-85a2ec3df2ca",
   "metadata": {},
   "source": [
    "### Split into training, validation and test set."
   ]
  },
  {
   "cell_type": "code",
   "execution_count": 11,
   "id": "5067e52d-3860-4029-b502-d346a6c6a4b7",
   "metadata": {},
   "outputs": [],
   "source": [
    "# We need to split by series_id to be able to calculate rolling variables\n",
    "# Shuffle series id's\n",
    "series_ids_shuffle = df[\"series_id\"].unique().sort().shuffle(seed=4)\n",
    "\n",
    "# Determine sizes\n",
    "test_val_set_size = int(series_ids_shuffle.shape[0] * 0.2)\n",
    "train_set_size = series_ids_shuffle.shape[0] - 2 * test_val_set_size\n",
    "\n",
    "# Select sets\n",
    "df_train_night_ids = series_ids_shuffle[:train_set_size]\n",
    "df_val_night_ids = series_ids_shuffle[train_set_size:train_set_size+test_val_set_size]\n",
    "df_test_night_ids = series_ids_shuffle[train_set_size+test_val_set_size:]\n",
    "\n",
    "df_train = df.filter(pl.col('series_id').is_in(df_train_night_ids))\n",
    "df_val = df.filter(pl.col('series_id').is_in(df_val_night_ids))\n",
    "df_test = df.filter(pl.col('series_id').is_in(df_test_night_ids))"
   ]
  },
  {
   "cell_type": "markdown",
   "id": "411812ab-c519-42c2-a02e-f4891adca9bd",
   "metadata": {},
   "source": [
    "#### Check if tarin, val and test sets contains all three target values"
   ]
  },
  {
   "cell_type": "code",
   "execution_count": 12,
   "id": "efe04e63-c685-463d-8615-4680f302cf37",
   "metadata": {},
   "outputs": [
    {
     "data": {
      "text/html": [
       "<div><style>\n",
       ".dataframe > thead > tr > th,\n",
       ".dataframe > tbody > tr > td {\n",
       "  text-align: right;\n",
       "  white-space: pre-wrap;\n",
       "}\n",
       "</style>\n",
       "<small>shape: (3, 2)</small><table border=\"1\" class=\"dataframe\"><thead><tr><th>target</th><th>dt_minute</th></tr><tr><td>i64</td><td>u32</td></tr></thead><tbody><tr><td>0</td><td>388184</td></tr><tr><td>1</td><td>193805</td></tr><tr><td>2</td><td>128093</td></tr></tbody></table></div>"
      ],
      "text/plain": [
       "shape: (3, 2)\n",
       "┌────────┬───────────┐\n",
       "│ target ┆ dt_minute │\n",
       "│ ---    ┆ ---       │\n",
       "│ i64    ┆ u32       │\n",
       "╞════════╪═══════════╡\n",
       "│ 0      ┆ 388184    │\n",
       "│ 1      ┆ 193805    │\n",
       "│ 2      ┆ 128093    │\n",
       "└────────┴───────────┘"
      ]
     },
     "execution_count": 12,
     "metadata": {},
     "output_type": "execute_result"
    }
   ],
   "source": [
    "df_train.group_by([\"target\"]).agg(pl.col(\"dt_minute\").count())"
   ]
  },
  {
   "cell_type": "code",
   "execution_count": 13,
   "id": "0061af9a-bed6-4580-b2b8-d0ecdcc974a9",
   "metadata": {},
   "outputs": [
    {
     "data": {
      "text/html": [
       "<div><style>\n",
       ".dataframe > thead > tr > th,\n",
       ".dataframe > tbody > tr > td {\n",
       "  text-align: right;\n",
       "  white-space: pre-wrap;\n",
       "}\n",
       "</style>\n",
       "<small>shape: (3, 2)</small><table border=\"1\" class=\"dataframe\"><thead><tr><th>target</th><th>dt_minute</th></tr><tr><td>i64</td><td>u32</td></tr></thead><tbody><tr><td>0</td><td>137682</td></tr><tr><td>1</td><td>73263</td></tr><tr><td>2</td><td>30353</td></tr></tbody></table></div>"
      ],
      "text/plain": [
       "shape: (3, 2)\n",
       "┌────────┬───────────┐\n",
       "│ target ┆ dt_minute │\n",
       "│ ---    ┆ ---       │\n",
       "│ i64    ┆ u32       │\n",
       "╞════════╪═══════════╡\n",
       "│ 0      ┆ 137682    │\n",
       "│ 1      ┆ 73263     │\n",
       "│ 2      ┆ 30353     │\n",
       "└────────┴───────────┘"
      ]
     },
     "execution_count": 13,
     "metadata": {},
     "output_type": "execute_result"
    }
   ],
   "source": [
    "df_val.group_by([\"target\"]).agg(pl.col(\"dt_minute\").count())"
   ]
  },
  {
   "cell_type": "code",
   "execution_count": 14,
   "id": "f57f6f1d-f70e-4f65-85ec-206fbed57dd5",
   "metadata": {},
   "outputs": [
    {
     "data": {
      "text/html": [
       "<div><style>\n",
       ".dataframe > thead > tr > th,\n",
       ".dataframe > tbody > tr > td {\n",
       "  text-align: right;\n",
       "  white-space: pre-wrap;\n",
       "}\n",
       "</style>\n",
       "<small>shape: (3, 2)</small><table border=\"1\" class=\"dataframe\"><thead><tr><th>target</th><th>dt_minute</th></tr><tr><td>i64</td><td>u32</td></tr></thead><tbody><tr><td>0</td><td>128407</td></tr><tr><td>1</td><td>67842</td></tr><tr><td>2</td><td>45695</td></tr></tbody></table></div>"
      ],
      "text/plain": [
       "shape: (3, 2)\n",
       "┌────────┬───────────┐\n",
       "│ target ┆ dt_minute │\n",
       "│ ---    ┆ ---       │\n",
       "│ i64    ┆ u32       │\n",
       "╞════════╪═══════════╡\n",
       "│ 0      ┆ 128407    │\n",
       "│ 1      ┆ 67842     │\n",
       "│ 2      ┆ 45695     │\n",
       "└────────┴───────────┘"
      ]
     },
     "execution_count": 14,
     "metadata": {},
     "output_type": "execute_result"
    }
   ],
   "source": [
    "df_test.group_by([\"target\"]).agg(pl.col(\"dt_minute\").count())"
   ]
  },
  {
   "cell_type": "code",
   "execution_count": 15,
   "id": "f51c5487-1873-41cd-a16e-84c6967277a8",
   "metadata": {},
   "outputs": [],
   "source": [
    "df_train = create_rolling_features(df_train)\n",
    "df_val = create_rolling_features(df_val)\n",
    "df_test = create_rolling_features(df_test)"
   ]
  },
  {
   "cell_type": "markdown",
   "id": "24b37059-e220-4258-bfc7-b7f429f0e987",
   "metadata": {},
   "source": [
    "#### Read features to exclude that are highly correlated with some other features\n",
    "- We have found them in <b>sleep_detection_eda.ipynb notebook</b>."
   ]
  },
  {
   "cell_type": "code",
   "execution_count": 16,
   "id": "f2ecbc9a-526d-454f-bf96-34e1fb145f63",
   "metadata": {},
   "outputs": [
    {
     "data": {
      "text/plain": [
       "['enmo_15m_max',\n",
       " 'enmo_60m_max',\n",
       " 'enmo_180m_max',\n",
       " 'enmo_480m_max',\n",
       " 'enmo_diffs_15m_sum',\n",
       " 'enmo_diffs_60m_sum',\n",
       " 'enmo_diffs_180m_sum',\n",
       " 'enmo_diffs_480m_sum',\n",
       " 'anglez',\n",
       " 'anglez_15m_mean',\n",
       " 'anglez_15m_std',\n",
       " 'anglez_diffs_180m_sum',\n",
       " 'enmo_15m_mean',\n",
       " 'enmo_60m_mean',\n",
       " 'enmo_60m_mean',\n",
       " 'enmo_180m_mean',\n",
       " 'enmo_480m_mean']"
      ]
     },
     "execution_count": 16,
     "metadata": {},
     "output_type": "execute_result"
    }
   ],
   "source": [
    "with open('data/features_to_exclude.txt') as f:\n",
    "    vars_to_exclude = [line.rstrip() for line in f]\n",
    "\n",
    "vars_to_exclude"
   ]
  },
  {
   "cell_type": "code",
   "execution_count": 17,
   "id": "f0910cb6-3448-45e0-8016-4a753ff0ce6f",
   "metadata": {},
   "outputs": [],
   "source": [
    "df_train = df_train.drop(vars_to_exclude)\n",
    "df_val = df_val.drop(vars_to_exclude)\n",
    "df_test = df_test.drop(vars_to_exclude)"
   ]
  },
  {
   "cell_type": "markdown",
   "id": "c11bac86-cb4f-43f5-8b58-7d110a22f483",
   "metadata": {},
   "source": [
    "### Transform to pandas"
   ]
  },
  {
   "cell_type": "code",
   "execution_count": 18,
   "id": "89cd975f-4e09-4bb4-9cdf-1d25e135b89d",
   "metadata": {},
   "outputs": [
    {
     "data": {
      "text/plain": [
       "['enmo',\n",
       " 'hour',\n",
       " 'night',\n",
       " 'enmo_15m_min',\n",
       " 'enmo_15m_std',\n",
       " 'anglez_15m_max',\n",
       " 'anglez_15m_min',\n",
       " 'anglez_diffs_15m_sum',\n",
       " 'enmo_60m_min',\n",
       " 'enmo_60m_std',\n",
       " 'anglez_60m_mean',\n",
       " 'anglez_60m_max',\n",
       " 'anglez_60m_min',\n",
       " 'anglez_60m_std',\n",
       " 'anglez_diffs_60m_sum',\n",
       " 'enmo_180m_min',\n",
       " 'enmo_180m_std',\n",
       " 'anglez_180m_mean',\n",
       " 'anglez_180m_max',\n",
       " 'anglez_180m_min',\n",
       " 'anglez_180m_std',\n",
       " 'enmo_480m_min',\n",
       " 'enmo_480m_std',\n",
       " 'anglez_480m_mean',\n",
       " 'anglez_480m_max',\n",
       " 'anglez_480m_min',\n",
       " 'anglez_480m_std',\n",
       " 'anglez_diffs_480m_sum',\n",
       " 'enmo_diffs_sum_div_max_min_15m',\n",
       " 'anglez_diffs_sum_div_max_min_15m',\n",
       " 'enmo_diffs_sum_div_max_min_60m',\n",
       " 'anglez_diffs_sum_div_max_min_60m',\n",
       " 'enmo_diffs_sum_div_max_min_180m',\n",
       " 'anglez_diffs_sum_div_max_min_180m',\n",
       " 'enmo_diffs_sum_div_max_min_480m',\n",
       " 'anglez_diffs_sum_div_max_min_480m']"
      ]
     },
     "execution_count": 18,
     "metadata": {},
     "output_type": "execute_result"
    }
   ],
   "source": [
    "df_train_pd = df_train.to_pandas()\n",
    "df_val_pd = df_val.to_pandas()\n",
    "df_test_pd = df_test.to_pandas()\n",
    "\n",
    "labels = \"target\"\n",
    "y_train = df_train_pd[labels].values\n",
    "y_val = df_val_pd[labels].values\n",
    "y_test = df_test_pd[labels].values\n",
    "\n",
    "del df_train_pd[labels] \n",
    "del df_val_pd[labels]\n",
    "del df_test_pd[labels]\n",
    "\n",
    "features = [f for f in df_train_pd.columns if f not in [\"dt_minute\",\"step\",\"series_id\"]]\n",
    "features"
   ]
  },
  {
   "cell_type": "markdown",
   "id": "96f7f9b1-6b79-4876-a8af-c9bf611e0e77",
   "metadata": {},
   "source": [
    "### Transform categorical variables (actyally only one - \"hour\") into one-hot-encoded variables."
   ]
  },
  {
   "cell_type": "code",
   "execution_count": 20,
   "id": "9f08f4ed-cb19-4274-a2d6-a441d56431bc",
   "metadata": {},
   "outputs": [],
   "source": [
    "X_train = df_train_pd[features]\n",
    "X_val = df_val_pd[features]\n",
    "X_test = df_test_pd[features]"
   ]
  },
  {
   "cell_type": "markdown",
   "id": "563bbbb3-e942-4a4f-973d-9993cb3d3f47",
   "metadata": {},
   "source": [
    "## Metrics\n",
    "- This is a classification problem so we will calculate accuracy.\n",
    "- However, our goal is to determine <b>sleep state</b> so we will also calculate precision, recall and F1 score for sleep.\n",
    "- Our priority will be <b>sleep F1 score metric</b>.  "
   ]
  },
  {
   "cell_type": "markdown",
   "id": "f4dde077-6ff2-4815-a223-bb5080ad6563",
   "metadata": {},
   "source": [
    "#### Precision, recall and F1 score"
   ]
  },
  {
   "cell_type": "code",
   "execution_count": 65,
   "id": "1d970be8-0754-46b4-9df9-349f49facc7c",
   "metadata": {},
   "outputs": [],
   "source": [
    "def calculate_metrics(y_pred,y_val,target):\n",
    "    precision = sum((y_pred==y_val) & (y_val==target)) / sum(y_pred==target)\n",
    "    recall = sum((y_pred==y_val) & (y_val==target)) / sum(y_val==target)\n",
    "    f1_score = 2 / ((1/precision) + (1/recall))\n",
    "    return precision, recall, f1_score"
   ]
  },
  {
   "cell_type": "markdown",
   "id": "1e42a4ad-5dd5-4712-a8aa-edd8320c33f9",
   "metadata": {},
   "source": [
    "## Model 1: Decision tree"
   ]
  },
  {
   "cell_type": "markdown",
   "id": "b905c012-706a-40a2-8cd5-1a15e03f5175",
   "metadata": {},
   "source": [
    "Let's start with a very simple tree of depth 2."
   ]
  },
  {
   "cell_type": "code",
   "execution_count": 66,
   "id": "2f6154f0-0c32-409a-96af-22cc5bc4c2ac",
   "metadata": {},
   "outputs": [
    {
     "data": {
      "text/html": [
       "<style>#sk-container-id-3 {color: black;}#sk-container-id-3 pre{padding: 0;}#sk-container-id-3 div.sk-toggleable {background-color: white;}#sk-container-id-3 label.sk-toggleable__label {cursor: pointer;display: block;width: 100%;margin-bottom: 0;padding: 0.3em;box-sizing: border-box;text-align: center;}#sk-container-id-3 label.sk-toggleable__label-arrow:before {content: \"▸\";float: left;margin-right: 0.25em;color: #696969;}#sk-container-id-3 label.sk-toggleable__label-arrow:hover:before {color: black;}#sk-container-id-3 div.sk-estimator:hover label.sk-toggleable__label-arrow:before {color: black;}#sk-container-id-3 div.sk-toggleable__content {max-height: 0;max-width: 0;overflow: hidden;text-align: left;background-color: #f0f8ff;}#sk-container-id-3 div.sk-toggleable__content pre {margin: 0.2em;color: black;border-radius: 0.25em;background-color: #f0f8ff;}#sk-container-id-3 input.sk-toggleable__control:checked~div.sk-toggleable__content {max-height: 200px;max-width: 100%;overflow: auto;}#sk-container-id-3 input.sk-toggleable__control:checked~label.sk-toggleable__label-arrow:before {content: \"▾\";}#sk-container-id-3 div.sk-estimator input.sk-toggleable__control:checked~label.sk-toggleable__label {background-color: #d4ebff;}#sk-container-id-3 div.sk-label input.sk-toggleable__control:checked~label.sk-toggleable__label {background-color: #d4ebff;}#sk-container-id-3 input.sk-hidden--visually {border: 0;clip: rect(1px 1px 1px 1px);clip: rect(1px, 1px, 1px, 1px);height: 1px;margin: -1px;overflow: hidden;padding: 0;position: absolute;width: 1px;}#sk-container-id-3 div.sk-estimator {font-family: monospace;background-color: #f0f8ff;border: 1px dotted black;border-radius: 0.25em;box-sizing: border-box;margin-bottom: 0.5em;}#sk-container-id-3 div.sk-estimator:hover {background-color: #d4ebff;}#sk-container-id-3 div.sk-parallel-item::after {content: \"\";width: 100%;border-bottom: 1px solid gray;flex-grow: 1;}#sk-container-id-3 div.sk-label:hover label.sk-toggleable__label {background-color: #d4ebff;}#sk-container-id-3 div.sk-serial::before {content: \"\";position: absolute;border-left: 1px solid gray;box-sizing: border-box;top: 0;bottom: 0;left: 50%;z-index: 0;}#sk-container-id-3 div.sk-serial {display: flex;flex-direction: column;align-items: center;background-color: white;padding-right: 0.2em;padding-left: 0.2em;position: relative;}#sk-container-id-3 div.sk-item {position: relative;z-index: 1;}#sk-container-id-3 div.sk-parallel {display: flex;align-items: stretch;justify-content: center;background-color: white;position: relative;}#sk-container-id-3 div.sk-item::before, #sk-container-id-3 div.sk-parallel-item::before {content: \"\";position: absolute;border-left: 1px solid gray;box-sizing: border-box;top: 0;bottom: 0;left: 50%;z-index: -1;}#sk-container-id-3 div.sk-parallel-item {display: flex;flex-direction: column;z-index: 1;position: relative;background-color: white;}#sk-container-id-3 div.sk-parallel-item:first-child::after {align-self: flex-end;width: 50%;}#sk-container-id-3 div.sk-parallel-item:last-child::after {align-self: flex-start;width: 50%;}#sk-container-id-3 div.sk-parallel-item:only-child::after {width: 0;}#sk-container-id-3 div.sk-dashed-wrapped {border: 1px dashed gray;margin: 0 0.4em 0.5em 0.4em;box-sizing: border-box;padding-bottom: 0.4em;background-color: white;}#sk-container-id-3 div.sk-label label {font-family: monospace;font-weight: bold;display: inline-block;line-height: 1.2em;}#sk-container-id-3 div.sk-label-container {text-align: center;}#sk-container-id-3 div.sk-container {/* jupyter's `normalize.less` sets `[hidden] { display: none; }` but bootstrap.min.css set `[hidden] { display: none !important; }` so we also need the `!important` here to be able to override the default hidden behavior on the sphinx rendered scikit-learn.org. See: https://github.com/scikit-learn/scikit-learn/issues/21755 */display: inline-block !important;position: relative;}#sk-container-id-3 div.sk-text-repr-fallback {display: none;}</style><div id=\"sk-container-id-3\" class=\"sk-top-container\"><div class=\"sk-text-repr-fallback\"><pre>DecisionTreeClassifier(max_depth=3, random_state=3)</pre><b>In a Jupyter environment, please rerun this cell to show the HTML representation or trust the notebook. <br />On GitHub, the HTML representation is unable to render, please try loading this page with nbviewer.org.</b></div><div class=\"sk-container\" hidden><div class=\"sk-item\"><div class=\"sk-estimator sk-toggleable\"><input class=\"sk-toggleable__control sk-hidden--visually\" id=\"sk-estimator-id-3\" type=\"checkbox\" checked><label for=\"sk-estimator-id-3\" class=\"sk-toggleable__label sk-toggleable__label-arrow\">DecisionTreeClassifier</label><div class=\"sk-toggleable__content\"><pre>DecisionTreeClassifier(max_depth=3, random_state=3)</pre></div></div></div></div></div>"
      ],
      "text/plain": [
       "DecisionTreeClassifier(max_depth=3, random_state=3)"
      ]
     },
     "execution_count": 66,
     "metadata": {},
     "output_type": "execute_result"
    }
   ],
   "source": [
    "model = DecisionTreeClassifier(max_depth=3, random_state=3)\n",
    "model.fit(X_train, y_train)"
   ]
  },
  {
   "cell_type": "code",
   "execution_count": 67,
   "id": "558499eb-05b6-4dab-b441-12701ce76bc4",
   "metadata": {},
   "outputs": [
    {
     "data": {
      "text/plain": [
       "array([0, 1, 2])"
      ]
     },
     "execution_count": 67,
     "metadata": {},
     "output_type": "execute_result"
    }
   ],
   "source": [
    "model.classes_"
   ]
  },
  {
   "cell_type": "code",
   "execution_count": 68,
   "id": "1fd1211c-fd84-4981-926d-8c8331b536bf",
   "metadata": {},
   "outputs": [
    {
     "name": "stdout",
     "output_type": "stream",
     "text": [
      "|--- enmo_60m_std <= 14.40\n",
      "|   |--- anglez_diffs_480m_sum <= 8.59\n",
      "|   |   |--- anglez_180m_max <= 80.50\n",
      "|   |   |   |--- class: 2\n",
      "|   |   |--- anglez_180m_max >  80.50\n",
      "|   |   |   |--- class: 2\n",
      "|   |--- anglez_diffs_480m_sum >  8.59\n",
      "|   |   |--- night <= 0.50\n",
      "|   |   |   |--- class: 0\n",
      "|   |   |--- night >  0.50\n",
      "|   |   |   |--- class: 1\n",
      "|--- enmo_60m_std >  14.40\n",
      "|   |--- anglez_diffs_480m_sum <= 7.84\n",
      "|   |   |--- enmo_60m_min <= 16.50\n",
      "|   |   |   |--- class: 2\n",
      "|   |   |--- enmo_60m_min >  16.50\n",
      "|   |   |   |--- class: 2\n",
      "|   |--- anglez_diffs_480m_sum >  7.84\n",
      "|   |   |--- hour <= 6.50\n",
      "|   |   |   |--- class: 1\n",
      "|   |   |--- hour >  6.50\n",
      "|   |   |   |--- class: 0\n",
      "\n"
     ]
    }
   ],
   "source": [
    "print(export_text(model, feature_names=features))"
   ]
  },
  {
   "cell_type": "markdown",
   "id": "0ef867c0-a706-4cfb-8e1a-f26d72a1b02c",
   "metadata": {},
   "source": [
    "We can see that the most importnat features are:\n",
    "- enmo_60m_std\n",
    "- anglez_diffs_480m_sum\n",
    "- anglez_180m_max\n",
    "- night\n",
    "- enmo_60m_min\n",
    "- hour"
   ]
  },
  {
   "cell_type": "code",
   "execution_count": 69,
   "id": "e1d5df92-ca0f-45fb-a8f4-f1b6b987ab51",
   "metadata": {},
   "outputs": [],
   "source": [
    "y_pred = model.predict(X_val)"
   ]
  },
  {
   "cell_type": "code",
   "execution_count": 70,
   "id": "386d0043-1f9c-469b-acef-16eb0e48c15a",
   "metadata": {},
   "outputs": [],
   "source": [
    "accuracy = sum(y_val == y_pred) / y_pred.size\n",
    "sleep_precision, sleep_recall, sleep_f1_score = calculate_metrics(y_pred,y_val,target=1)"
   ]
  },
  {
   "cell_type": "code",
   "execution_count": 72,
   "id": "7f8effe1-413f-428f-9fdf-7e7e3a69549d",
   "metadata": {},
   "outputs": [
    {
     "name": "stdout",
     "output_type": "stream",
     "text": [
      "Accuracy: \t\t 0.854\n",
      "Sleep precision: \t 0.839\n",
      "Sleep recall: \t\t 0.865 \n",
      "Sleep F1 score: \t 0.852\n"
     ]
    }
   ],
   "source": [
    "print(\n",
    "    f\"Accuracy: \\t\\t {accuracy.round(3)}\"\n",
    "    f\"\\nSleep precision: \\t {sleep_precision.round(3)}\" \n",
    "    f\"\\nSleep recall: \\t\\t {sleep_recall.round(3)} \"\n",
    "    f\"\\nSleep F1 score: \\t {sleep_f1_score.round(3)}\"\n",
    ")"
   ]
  },
  {
   "cell_type": "markdown",
   "id": "0b3a51a5-9369-4406-a564-4d244244c690",
   "metadata": {},
   "source": [
    "We can see that even this simple tree gives us decent results.\n",
    "\n",
    "However, we will try to improve."
   ]
  },
  {
   "cell_type": "markdown",
   "id": "c5589300-15a1-4cda-86d6-4502596b8797",
   "metadata": {},
   "source": [
    "### Decision tree - hyperparameter tuning\n",
    "- Parameters that will be tuned:\n",
    "    - max_depth\n",
    "    - min_samples_split "
   ]
  },
  {
   "cell_type": "code",
   "execution_count": 41,
   "id": "bff94c0a-a68b-4b59-82a6-aebcf6b4b73b",
   "metadata": {},
   "outputs": [],
   "source": [
    "max_depth_s = [2,6,8,10]\n",
    "min_samples_split_s = [150, 200, 250]"
   ]
  },
  {
   "cell_type": "code",
   "execution_count": 42,
   "id": "8ec9395b-7603-460c-a731-7e2b62239f4a",
   "metadata": {},
   "outputs": [
    {
     "name": "stdout",
     "output_type": "stream",
     "text": [
      "growing tree with max_depth: 2 and min_sampes_split: 150 ...\n",
      "growing tree with max_depth: 2 and min_sampes_split: 200 ...\n",
      "growing tree with max_depth: 2 and min_sampes_split: 250 ...\n",
      "growing tree with max_depth: 6 and min_sampes_split: 150 ...\n",
      "growing tree with max_depth: 6 and min_sampes_split: 200 ...\n",
      "growing tree with max_depth: 6 and min_sampes_split: 250 ...\n",
      "growing tree with max_depth: 8 and min_sampes_split: 150 ...\n",
      "growing tree with max_depth: 8 and min_sampes_split: 200 ...\n",
      "growing tree with max_depth: 8 and min_sampes_split: 250 ...\n",
      "growing tree with max_depth: 10 and min_sampes_split: 150 ...\n",
      "growing tree with max_depth: 10 and min_sampes_split: 200 ...\n",
      "growing tree with max_depth: 10 and min_sampes_split: 250 ...\n"
     ]
    }
   ],
   "source": [
    "results = []\n",
    "for max_depth in max_depth_s:\n",
    "    for min_samples_split in min_samples_split_s:\n",
    "        print(f\"growing tree with max_depth: {max_depth} and min_sampes_split: {min_samples_split} ...\")\n",
    "        model = DecisionTreeClassifier(max_depth=max_depth, min_samples_split=min_samples_split, random_state=1)\n",
    "        model.fit(X_train, y_train)\n",
    "        y_pred = model.predict(X_val)\n",
    "        accuracy = sum(y_val == y_pred) / y_pred.size\n",
    "        sleep_precision, sleep_recall, sleep_f1_score = calculate_metrics(target=1)\n",
    "        results.append({\n",
    "            \"max_depth\": max_depth,\n",
    "            \"min_samples_split\": min_samples_split,\n",
    "            \"accuracy\": accuracy,\n",
    "            \"sleep_precision\": sleep_precision,\n",
    "            \"sleep_recall\": sleep_recall,\n",
    "            \"sleep_f1_score\": sleep_f1_score\n",
    "        })"
   ]
  },
  {
   "cell_type": "code",
   "execution_count": 43,
   "id": "5d24243a-ce61-4a89-863e-25ceb4573288",
   "metadata": {},
   "outputs": [],
   "source": [
    "results_pd = pd.DataFrame(results).set_index([\"max_depth\",\"min_samples_split\"])"
   ]
  },
  {
   "cell_type": "code",
   "execution_count": 44,
   "id": "859651c8-aa40-499c-bfba-bbc67dc191ea",
   "metadata": {},
   "outputs": [
    {
     "data": {
      "text/html": [
       "<style type=\"text/css\">\n",
       "#T_09065_row0_col3, #T_09065_row1_col3, #T_09065_row2_col3 {\n",
       "  background-color: #023858;\n",
       "  color: #f1f1f1;\n",
       "}\n",
       "#T_09065_row3_col3 {\n",
       "  background-color: #034267;\n",
       "  color: #f1f1f1;\n",
       "}\n",
       "#T_09065_row4_col3 {\n",
       "  background-color: #03446a;\n",
       "  color: #f1f1f1;\n",
       "}\n",
       "#T_09065_row5_col3 {\n",
       "  background-color: #034871;\n",
       "  color: #f1f1f1;\n",
       "}\n",
       "#T_09065_row6_col3, #T_09065_row7_col3, #T_09065_row8_col3 {\n",
       "  background-color: #04588a;\n",
       "  color: #f1f1f1;\n",
       "}\n",
       "#T_09065_row9_col3, #T_09065_row10_col3, #T_09065_row11_col3 {\n",
       "  background-color: #fff7fb;\n",
       "  color: #000000;\n",
       "}\n",
       "</style>\n",
       "<table id=\"T_09065\">\n",
       "  <thead>\n",
       "    <tr>\n",
       "      <th class=\"blank\" >&nbsp;</th>\n",
       "      <th class=\"blank level0\" >&nbsp;</th>\n",
       "      <th id=\"T_09065_level0_col0\" class=\"col_heading level0 col0\" >accuracy</th>\n",
       "      <th id=\"T_09065_level0_col1\" class=\"col_heading level0 col1\" >sleep_precision</th>\n",
       "      <th id=\"T_09065_level0_col2\" class=\"col_heading level0 col2\" >sleep_recall</th>\n",
       "      <th id=\"T_09065_level0_col3\" class=\"col_heading level0 col3\" >sleep_f1_score</th>\n",
       "    </tr>\n",
       "    <tr>\n",
       "      <th class=\"index_name level0\" >max_depth</th>\n",
       "      <th class=\"index_name level1\" >min_samples_split</th>\n",
       "      <th class=\"blank col0\" >&nbsp;</th>\n",
       "      <th class=\"blank col1\" >&nbsp;</th>\n",
       "      <th class=\"blank col2\" >&nbsp;</th>\n",
       "      <th class=\"blank col3\" >&nbsp;</th>\n",
       "    </tr>\n",
       "  </thead>\n",
       "  <tbody>\n",
       "    <tr>\n",
       "      <th id=\"T_09065_level0_row0\" class=\"row_heading level0 row0\" rowspan=\"3\">8</th>\n",
       "      <th id=\"T_09065_level1_row0\" class=\"row_heading level1 row0\" >200</th>\n",
       "      <td id=\"T_09065_row0_col0\" class=\"data row0 col0\" >0.8370</td>\n",
       "      <td id=\"T_09065_row0_col1\" class=\"data row0 col1\" >0.8834</td>\n",
       "      <td id=\"T_09065_row0_col2\" class=\"data row0 col2\" >0.8728</td>\n",
       "      <td id=\"T_09065_row0_col3\" class=\"data row0 col3\" >0.8781</td>\n",
       "    </tr>\n",
       "    <tr>\n",
       "      <th id=\"T_09065_level1_row1\" class=\"row_heading level1 row1\" >150</th>\n",
       "      <td id=\"T_09065_row1_col0\" class=\"data row1 col0\" >0.8363</td>\n",
       "      <td id=\"T_09065_row1_col1\" class=\"data row1 col1\" >0.8834</td>\n",
       "      <td id=\"T_09065_row1_col2\" class=\"data row1 col2\" >0.8726</td>\n",
       "      <td id=\"T_09065_row1_col3\" class=\"data row1 col3\" >0.8780</td>\n",
       "    </tr>\n",
       "    <tr>\n",
       "      <th id=\"T_09065_level1_row2\" class=\"row_heading level1 row2\" >250</th>\n",
       "      <td id=\"T_09065_row2_col0\" class=\"data row2 col0\" >0.8359</td>\n",
       "      <td id=\"T_09065_row2_col1\" class=\"data row2 col1\" >0.8833</td>\n",
       "      <td id=\"T_09065_row2_col2\" class=\"data row2 col2\" >0.8725</td>\n",
       "      <td id=\"T_09065_row2_col3\" class=\"data row2 col3\" >0.8779</td>\n",
       "    </tr>\n",
       "    <tr>\n",
       "      <th id=\"T_09065_level0_row3\" class=\"row_heading level0 row3\" rowspan=\"3\">10</th>\n",
       "      <th id=\"T_09065_level1_row3\" class=\"row_heading level1 row3\" >200</th>\n",
       "      <td id=\"T_09065_row3_col0\" class=\"data row3 col0\" >0.8234</td>\n",
       "      <td id=\"T_09065_row3_col1\" class=\"data row3 col1\" >0.8748</td>\n",
       "      <td id=\"T_09065_row3_col2\" class=\"data row3 col2\" >0.8761</td>\n",
       "      <td id=\"T_09065_row3_col3\" class=\"data row3 col3\" >0.8754</td>\n",
       "    </tr>\n",
       "    <tr>\n",
       "      <th id=\"T_09065_level1_row4\" class=\"row_heading level1 row4\" >150</th>\n",
       "      <td id=\"T_09065_row4_col0\" class=\"data row4 col0\" >0.8253</td>\n",
       "      <td id=\"T_09065_row4_col1\" class=\"data row4 col1\" >0.8759</td>\n",
       "      <td id=\"T_09065_row4_col2\" class=\"data row4 col2\" >0.8740</td>\n",
       "      <td id=\"T_09065_row4_col3\" class=\"data row4 col3\" >0.8750</td>\n",
       "    </tr>\n",
       "    <tr>\n",
       "      <th id=\"T_09065_level1_row5\" class=\"row_heading level1 row5\" >250</th>\n",
       "      <td id=\"T_09065_row5_col0\" class=\"data row5 col0\" >0.8220</td>\n",
       "      <td id=\"T_09065_row5_col1\" class=\"data row5 col1\" >0.8739</td>\n",
       "      <td id=\"T_09065_row5_col2\" class=\"data row5 col2\" >0.8737</td>\n",
       "      <td id=\"T_09065_row5_col3\" class=\"data row5 col3\" >0.8738</td>\n",
       "    </tr>\n",
       "    <tr>\n",
       "      <th id=\"T_09065_level0_row6\" class=\"row_heading level0 row6\" rowspan=\"3\">6</th>\n",
       "      <th id=\"T_09065_level1_row6\" class=\"row_heading level1 row6\" >150</th>\n",
       "      <td id=\"T_09065_row6_col0\" class=\"data row6 col0\" >0.8534</td>\n",
       "      <td id=\"T_09065_row6_col1\" class=\"data row6 col1\" >0.8690</td>\n",
       "      <td id=\"T_09065_row6_col2\" class=\"data row6 col2\" >0.8699</td>\n",
       "      <td id=\"T_09065_row6_col3\" class=\"data row6 col3\" >0.8695</td>\n",
       "    </tr>\n",
       "    <tr>\n",
       "      <th id=\"T_09065_level1_row7\" class=\"row_heading level1 row7\" >200</th>\n",
       "      <td id=\"T_09065_row7_col0\" class=\"data row7 col0\" >0.8534</td>\n",
       "      <td id=\"T_09065_row7_col1\" class=\"data row7 col1\" >0.8690</td>\n",
       "      <td id=\"T_09065_row7_col2\" class=\"data row7 col2\" >0.8699</td>\n",
       "      <td id=\"T_09065_row7_col3\" class=\"data row7 col3\" >0.8695</td>\n",
       "    </tr>\n",
       "    <tr>\n",
       "      <th id=\"T_09065_level1_row8\" class=\"row_heading level1 row8\" >250</th>\n",
       "      <td id=\"T_09065_row8_col0\" class=\"data row8 col0\" >0.8524</td>\n",
       "      <td id=\"T_09065_row8_col1\" class=\"data row8 col1\" >0.8690</td>\n",
       "      <td id=\"T_09065_row8_col2\" class=\"data row8 col2\" >0.8699</td>\n",
       "      <td id=\"T_09065_row8_col3\" class=\"data row8 col3\" >0.8695</td>\n",
       "    </tr>\n",
       "    <tr>\n",
       "      <th id=\"T_09065_level0_row9\" class=\"row_heading level0 row9\" rowspan=\"3\">2</th>\n",
       "      <th id=\"T_09065_level1_row9\" class=\"row_heading level1 row9\" >150</th>\n",
       "      <td id=\"T_09065_row9_col0\" class=\"data row9 col0\" >0.8280</td>\n",
       "      <td id=\"T_09065_row9_col1\" class=\"data row9 col1\" >0.8063</td>\n",
       "      <td id=\"T_09065_row9_col2\" class=\"data row9 col2\" >0.8058</td>\n",
       "      <td id=\"T_09065_row9_col3\" class=\"data row9 col3\" >0.8061</td>\n",
       "    </tr>\n",
       "    <tr>\n",
       "      <th id=\"T_09065_level1_row10\" class=\"row_heading level1 row10\" >200</th>\n",
       "      <td id=\"T_09065_row10_col0\" class=\"data row10 col0\" >0.8280</td>\n",
       "      <td id=\"T_09065_row10_col1\" class=\"data row10 col1\" >0.8063</td>\n",
       "      <td id=\"T_09065_row10_col2\" class=\"data row10 col2\" >0.8058</td>\n",
       "      <td id=\"T_09065_row10_col3\" class=\"data row10 col3\" >0.8061</td>\n",
       "    </tr>\n",
       "    <tr>\n",
       "      <th id=\"T_09065_level1_row11\" class=\"row_heading level1 row11\" >250</th>\n",
       "      <td id=\"T_09065_row11_col0\" class=\"data row11 col0\" >0.8280</td>\n",
       "      <td id=\"T_09065_row11_col1\" class=\"data row11 col1\" >0.8063</td>\n",
       "      <td id=\"T_09065_row11_col2\" class=\"data row11 col2\" >0.8058</td>\n",
       "      <td id=\"T_09065_row11_col3\" class=\"data row11 col3\" >0.8061</td>\n",
       "    </tr>\n",
       "  </tbody>\n",
       "</table>\n"
      ],
      "text/plain": [
       "<pandas.io.formats.style.Styler at 0x7fc085a9fbe0>"
      ]
     },
     "execution_count": 44,
     "metadata": {},
     "output_type": "execute_result"
    }
   ],
   "source": [
    "results_pd.sort_values(by=\"sleep_f1_score\", ascending=False).style.format(precision=4).background_gradient(subset=[\"sleep_f1_score\"], axis=0)"
   ]
  },
  {
   "cell_type": "markdown",
   "id": "795c7b8d-deee-4887-80c6-ab9dbb45c8e8",
   "metadata": {},
   "source": [
    "The best sleep F1 score is obtained for decision tree with max_depth=8 and min_sample_split=200.\n",
    "\n",
    "Our best sleep F1 score is equal to <b>0.8781<b>."
   ]
  },
  {
   "cell_type": "markdown",
   "id": "ba390465-0bdc-48f2-94ca-fba0845bef35",
   "metadata": {},
   "source": [
    "### Decision Tree - best probability threshold \n",
    "- We plot precision and recall for different probability thresholds to see which threshold is optimal."
   ]
  },
  {
   "cell_type": "code",
   "execution_count": 82,
   "id": "71f7c872-ba19-496c-a6bb-f739f2742bcd",
   "metadata": {},
   "outputs": [],
   "source": [
    "model = DecisionTreeClassifier(max_depth=8, min_samples_split=200, random_state=1)\n",
    "model.fit(X_train, y_train)\n",
    "y_proba = model.predict_proba(X_val)\n",
    "y_proba_sleep = y_proba[:,1]"
   ]
  },
  {
   "cell_type": "code",
   "execution_count": 83,
   "id": "89e26bb0-2153-43f8-ae1c-50fbd72c0c7e",
   "metadata": {},
   "outputs": [
    {
     "data": {
      "text/plain": [
       "array([0.  , 0.01, 0.02, 0.03, 0.04, 0.05, 0.06, 0.07, 0.08, 0.09, 0.1 ,\n",
       "       0.11, 0.12, 0.13, 0.14, 0.15, 0.16, 0.17, 0.18, 0.19, 0.2 , 0.21,\n",
       "       0.22, 0.23, 0.24, 0.25, 0.26, 0.27, 0.28, 0.29, 0.3 , 0.31, 0.32,\n",
       "       0.33, 0.34, 0.35, 0.36, 0.37, 0.38, 0.39, 0.4 , 0.41, 0.42, 0.43,\n",
       "       0.44, 0.45, 0.46, 0.47, 0.48, 0.49, 0.5 , 0.51, 0.52, 0.53, 0.54,\n",
       "       0.55, 0.56, 0.57, 0.58, 0.59, 0.6 , 0.61, 0.62, 0.63, 0.64, 0.65,\n",
       "       0.66, 0.67, 0.68, 0.69, 0.7 , 0.71, 0.72, 0.73, 0.74, 0.75, 0.76,\n",
       "       0.77, 0.78, 0.79, 0.8 , 0.81, 0.82, 0.83, 0.84, 0.85, 0.86, 0.87,\n",
       "       0.88, 0.89, 0.9 , 0.91, 0.92, 0.93, 0.94, 0.95, 0.96, 0.97, 0.98,\n",
       "       0.99])"
      ]
     },
     "execution_count": 83,
     "metadata": {},
     "output_type": "execute_result"
    }
   ],
   "source": [
    "thrs = np.linspace(0,0.99,100)\n",
    "thrs"
   ]
  },
  {
   "cell_type": "code",
   "execution_count": 89,
   "id": "e8a079a1-f2e4-4ecb-911e-4b7e2ac46af1",
   "metadata": {},
   "outputs": [],
   "source": [
    "precision_recall = {}\n",
    "for t in thrs:\n",
    "    y_pred = (y_proba_sleep>t).astype(int)\n",
    "    sleep_precision, sleep_recall, sleep_f1_score = calculate_metrics(y_pred,y_val,target=1)\n",
    "    precision_recall[t] = [sleep_precision, sleep_recall]"
   ]
  },
  {
   "cell_type": "code",
   "execution_count": 90,
   "id": "04a97815-e3bf-4df2-99bc-49dc2308b019",
   "metadata": {},
   "outputs": [],
   "source": [
    "df_p_r = pd.DataFrame(precision_recall).T\n",
    "df_p_r.columns = [\"precision\", \"recall\"]"
   ]
  },
  {
   "cell_type": "code",
   "execution_count": 91,
   "id": "59597eb3-4a82-4cc7-a422-232c06bcf722",
   "metadata": {},
   "outputs": [
    {
     "data": {
      "text/plain": [
       "<Figure size 600x600 with 0 Axes>"
      ]
     },
     "metadata": {},
     "output_type": "display_data"
    },
    {
     "data": {
      "image/png": "[encoded data removed]",
      "text/plain": [
       "<Figure size 640x480 with 1 Axes>"
      ]
     },
     "metadata": {},
     "output_type": "display_data"
    }
   ],
   "source": [
    "plt.figure(figsize=(6, 6));\n",
    "df_p_r.plot();\n",
    "plt.title(\"Precision and Recall for different thresholds\");"
   ]
  },
  {
   "cell_type": "markdown",
   "id": "03be7e63-dd40-452b-903f-182c322a0a2c",
   "metadata": {},
   "source": [
    "Summary\n",
    "- Threshold form about 3.9 to 5 should give us similar results.\n",
    "- Let's stay with 0.5."
   ]
  },
  {
   "cell_type": "markdown",
   "id": "ada7e988-2bda-444b-8750-d935ebc9112e",
   "metadata": {},
   "source": [
    "## Model 2: XGBoost\n",
    "- Let's train first a model checking how mnay num_boost_round will be optimal.\n",
    "- Then we will tune hyperparamaters."
   ]
  },
  {
   "cell_type": "code",
   "execution_count": 108,
   "id": "86056287-d553-46bd-b69d-8b41c1107826",
   "metadata": {},
   "outputs": [],
   "source": [
    "dtrain = xgb.DMatrix(X_train, label=y_train, feature_names=features)\n",
    "dval = xgb.DMatrix(X_val, label=y_val, feature_names=features)\n",
    "dtest = xgb.DMatrix(X_test, label=y_test, feature_names=features)"
   ]
  },
  {
   "cell_type": "code",
   "execution_count": 109,
   "id": "ba8c75e5-f39c-424d-b89d-b012e9ddd0e5",
   "metadata": {},
   "outputs": [],
   "source": [
    "watchlist = [(dtrain, 'train'), (dval, 'val')]"
   ]
  },
  {
   "cell_type": "code",
   "execution_count": 110,
   "id": "d68a7e1b-cb3a-4cf4-9bfd-d16ad102d5f9",
   "metadata": {},
   "outputs": [],
   "source": [
    "xgb_params = {\n",
    "    'eta': 0.3, \n",
    "    'max_depth': 6,\n",
    "    'min_child_weight': 1,\n",
    "    'objective': 'multi:softprob', \n",
    "    'num_class': 3,\n",
    "    'eval_metric': 'auc',\n",
    "    'nthread': 8,\n",
    "    'seed': 1,\n",
    "    'verbosity': 1\n",
    "}"
   ]
  },
  {
   "cell_type": "code",
   "execution_count": 129,
   "id": "acd225c0-2b21-4948-9be6-be106db3afac",
   "metadata": {},
   "outputs": [
    {
     "name": "stdout",
     "output_type": "stream",
     "text": [
      "[0]\ttrain-auc:0.93901\tval-auc:0.91900\n",
      "[10]\ttrain-auc:0.97765\tval-auc:0.92623\n",
      "[20]\ttrain-auc:0.98742\tval-auc:0.92296\n",
      "[30]\ttrain-auc:0.99240\tval-auc:0.92113\n",
      "[40]\ttrain-auc:0.99533\tval-auc:0.92085\n",
      "[49]\ttrain-auc:0.99672\tval-auc:0.92096\n"
     ]
    }
   ],
   "source": [
    "model = xgb.train(\n",
    "    xgb_params, \n",
    "    dtrain,\n",
    "    evals=watchlist,\n",
    "    verbose_eval=10, #print every 10 step\n",
    "    num_boost_round=50 # 30 is optimal - with more we overfit\n",
    ")"
   ]
  },
  {
   "cell_type": "code",
   "execution_count": 130,
   "id": "616d8186-e87a-4b9f-a048-c99ac43e9221",
   "metadata": {},
   "outputs": [
    {
     "data": {
      "text/plain": [
       "array([[0.81801087, 0.08234242, 0.09964678],\n",
       "       [0.84379447, 0.08349394, 0.07271165],\n",
       "       [0.84008867, 0.08839852, 0.07151283],\n",
       "       ...,\n",
       "       [0.63327444, 0.22146748, 0.14525814],\n",
       "       [0.6863007 , 0.20312554, 0.11057376],\n",
       "       [0.7299095 , 0.15249072, 0.11759982]], dtype=float32)"
      ]
     },
     "execution_count": 130,
     "metadata": {},
     "output_type": "execute_result"
    }
   ],
   "source": [
    "y_pred_proba = model.predict(dval)\n",
    "y_pred_proba"
   ]
  },
  {
   "cell_type": "code",
   "execution_count": 131,
   "id": "8b88a272-deec-4465-88ae-c44a61808fb0",
   "metadata": {},
   "outputs": [
    {
     "data": {
      "text/plain": [
       "array([0, 0, 0, ..., 0, 0, 0])"
      ]
     },
     "execution_count": 131,
     "metadata": {},
     "output_type": "execute_result"
    }
   ],
   "source": [
    "y_pred = np.argmax(y_pred_proba, axis=1)\n",
    "y_pred"
   ]
  },
  {
   "cell_type": "code",
   "execution_count": 132,
   "id": "282ab0a1-4bc2-4c97-b6cc-0d28379ddeae",
   "metadata": {},
   "outputs": [],
   "source": [
    "accuracy = sum(y_val == y_pred) / y_pred.size\n",
    "sleep_precision, sleep_recall, f1_score = calculate_metrics(y_pred,y_val,target=1)"
   ]
  },
  {
   "cell_type": "code",
   "execution_count": 133,
   "id": "acb30e4e-7292-42d7-b4b1-78a5f8813603",
   "metadata": {},
   "outputs": [
    {
     "name": "stdout",
     "output_type": "stream",
     "text": [
      "Accuracy: \t\t 0.859\n",
      "Sleep precision: \t 0.885\n",
      "Sleep recall: \t\t 0.918 \n",
      "Sleep F1 score: \t 0.901\n"
     ]
    }
   ],
   "source": [
    "print(\n",
    "    f\"Accuracy: \\t\\t {accuracy.round(3)}\"\n",
    "    f\"\\nSleep precision: \\t {sleep_precision.round(3)}\" \n",
    "    f\"\\nSleep recall: \\t\\t {sleep_recall.round(3)} \"\n",
    "    f\"\\nSleep F1 score: \\t {sleep_f1_score.round(3)}\"\n",
    ")"
   ]
  },
  {
   "cell_type": "markdown",
   "id": "77515ddf-8b9a-4eed-a61e-7fbddd9392f8",
   "metadata": {},
   "source": [
    "### XGBoost - hyperparameters tuning"
   ]
  },
  {
   "cell_type": "code",
   "execution_count": 134,
   "id": "b870a22a-1542-45b2-b85f-f9bcd72df256",
   "metadata": {},
   "outputs": [],
   "source": [
    "max_depth_s = [2,6,8]\n",
    "min_child_weight_s = [200, 250,300]"
   ]
  },
  {
   "cell_type": "code",
   "execution_count": 135,
   "id": "eb572d52-b829-4cfe-bf6f-039c246c2adf",
   "metadata": {},
   "outputs": [
    {
     "name": "stdout",
     "output_type": "stream",
     "text": [
      "training xgboost with max_depth: 2 and min_child_weight: 250 ...\n",
      "[0]\ttrain-auc:0.86874\tval-auc:0.89852\n",
      "[10]\ttrain-auc:0.91811\tval-auc:0.92633\n",
      "[20]\ttrain-auc:0.92742\tval-auc:0.92691\n",
      "[30]\ttrain-auc:0.93128\tval-auc:0.92632\n",
      "[40]\ttrain-auc:0.93457\tval-auc:0.92569\n",
      "[49]\ttrain-auc:0.93718\tval-auc:0.92568\n",
      "training xgboost with max_depth: 2 and min_child_weight: 250 ...\n",
      "[0]\ttrain-auc:0.86874\tval-auc:0.89852\n",
      "[10]\ttrain-auc:0.91811\tval-auc:0.92633\n",
      "[20]\ttrain-auc:0.92680\tval-auc:0.92721\n",
      "[30]\ttrain-auc:0.93169\tval-auc:0.92631\n",
      "[40]\ttrain-auc:0.93471\tval-auc:0.92608\n",
      "[49]\ttrain-auc:0.93728\tval-auc:0.92555\n",
      "training xgboost with max_depth: 2 and min_child_weight: 250 ...\n",
      "[0]\ttrain-auc:0.86874\tval-auc:0.89852\n",
      "[10]\ttrain-auc:0.91811\tval-auc:0.92633\n",
      "[20]\ttrain-auc:0.92674\tval-auc:0.92717\n",
      "[30]\ttrain-auc:0.93129\tval-auc:0.92659\n",
      "[40]\ttrain-auc:0.93449\tval-auc:0.92545\n",
      "[49]\ttrain-auc:0.93672\tval-auc:0.92522\n",
      "training xgboost with max_depth: 6 and min_child_weight: 250 ...\n",
      "[0]\ttrain-auc:0.92625\tval-auc:0.92074\n",
      "[10]\ttrain-auc:0.95779\tval-auc:0.92825\n",
      "[20]\ttrain-auc:0.97065\tval-auc:0.92518\n",
      "[30]\ttrain-auc:0.97852\tval-auc:0.92564\n",
      "[40]\ttrain-auc:0.98415\tval-auc:0.92456\n",
      "[49]\ttrain-auc:0.98841\tval-auc:0.92413\n",
      "training xgboost with max_depth: 6 and min_child_weight: 250 ...\n",
      "[0]\ttrain-auc:0.92627\tval-auc:0.92018\n",
      "[10]\ttrain-auc:0.95884\tval-auc:0.92805\n",
      "[20]\ttrain-auc:0.97083\tval-auc:0.92503\n",
      "[30]\ttrain-auc:0.97885\tval-auc:0.92469\n",
      "[40]\ttrain-auc:0.98397\tval-auc:0.92394\n",
      "[49]\ttrain-auc:0.98763\tval-auc:0.92341\n",
      "training xgboost with max_depth: 6 and min_child_weight: 250 ...\n",
      "[0]\ttrain-auc:0.92609\tval-auc:0.92073\n",
      "[10]\ttrain-auc:0.95965\tval-auc:0.92751\n",
      "[20]\ttrain-auc:0.97183\tval-auc:0.92589\n",
      "[30]\ttrain-auc:0.97827\tval-auc:0.92509\n",
      "[40]\ttrain-auc:0.98437\tval-auc:0.92355\n",
      "[49]\ttrain-auc:0.98844\tval-auc:0.92293\n",
      "training xgboost with max_depth: 8 and min_child_weight: 250 ...\n",
      "[0]\ttrain-auc:0.93961\tval-auc:0.91962\n",
      "[10]\ttrain-auc:0.97889\tval-auc:0.92617\n",
      "[20]\ttrain-auc:0.98736\tval-auc:0.92551\n",
      "[30]\ttrain-auc:0.99332\tval-auc:0.92345\n",
      "[40]\ttrain-auc:0.99606\tval-auc:0.92229\n",
      "[49]\ttrain-auc:0.99724\tval-auc:0.92148\n",
      "training xgboost with max_depth: 8 and min_child_weight: 250 ...\n",
      "[0]\ttrain-auc:0.93901\tval-auc:0.91900\n",
      "[10]\ttrain-auc:0.97765\tval-auc:0.92623\n",
      "[20]\ttrain-auc:0.98742\tval-auc:0.92296\n",
      "[30]\ttrain-auc:0.99240\tval-auc:0.92113\n",
      "[40]\ttrain-auc:0.99533\tval-auc:0.92085\n",
      "[49]\ttrain-auc:0.99672\tval-auc:0.92096\n",
      "training xgboost with max_depth: 8 and min_child_weight: 250 ...\n",
      "[0]\ttrain-auc:0.93864\tval-auc:0.91958\n",
      "[10]\ttrain-auc:0.97566\tval-auc:0.92695\n",
      "[20]\ttrain-auc:0.98680\tval-auc:0.92298\n",
      "[30]\ttrain-auc:0.99189\tval-auc:0.92304\n",
      "[40]\ttrain-auc:0.99482\tval-auc:0.92169\n",
      "[49]\ttrain-auc:0.99643\tval-auc:0.92133\n"
     ]
    }
   ],
   "source": [
    "results = []\n",
    "for max_depth in max_depth_s:\n",
    "    for min_child_weight in min_child_weight_s:\n",
    "        xgb_params = {\n",
    "            'eta': 0.3, \n",
    "            'max_depth': max_depth,\n",
    "            'min_child_weight': min_child_weight,\n",
    "            'objective': 'multi:softprob', \n",
    "            'num_class': 3,\n",
    "            'eval_metric': 'auc',\n",
    "            'nthread': 8,\n",
    "            'seed': 1,\n",
    "            'verbosity': 1\n",
    "        }\n",
    "        print(f\"training xgboost with max_depth: {max_depth} and min_child_weight: {min_samples_split} ...\")\n",
    "        model = xgb.train(\n",
    "            xgb_params, \n",
    "            dtrain,\n",
    "            evals=watchlist,\n",
    "            verbose_eval=10, #print every 10 step\n",
    "            num_boost_round=50 # with more we overfit\n",
    "        )\n",
    "        \n",
    "        y_pred_proba = model.predict(dval)\n",
    "        y_pred = np.argmax(y_pred_proba, axis=1)\n",
    "\n",
    "        accuracy = sum(y_val == y_pred) / y_pred.size\n",
    "        sleep_precision, sleep_recall, sleep_f1_score = calculate_metrics(y_pred,y_val,target=1)\n",
    "        results.append({\n",
    "            \"max_depth\": max_depth,\n",
    "            \"min_child_weight\": min_child_weight,\n",
    "            \"accuracy\": accuracy,\n",
    "            \"sleep_precision\": sleep_precision,\n",
    "            \"sleep_recall\": sleep_recall,\n",
    "            \"sleep_f1_score\": sleep_f1_score\n",
    "        })"
   ]
  },
  {
   "cell_type": "code",
   "execution_count": 136,
   "id": "2b89b3af-56b2-4791-80eb-756f1c3f1991",
   "metadata": {},
   "outputs": [],
   "source": [
    "results_pd = pd.DataFrame(results).set_index([\"max_depth\",\"min_child_weight\"])"
   ]
  },
  {
   "cell_type": "code",
   "execution_count": 137,
   "id": "33b5eea3-6963-4979-baf4-cd26e83aeb92",
   "metadata": {},
   "outputs": [
    {
     "data": {
      "text/html": [
       "<style type=\"text/css\">\n",
       "#T_6676d_row0_col3 {\n",
       "  background-color: #023858;\n",
       "  color: #f1f1f1;\n",
       "}\n",
       "#T_6676d_row1_col3 {\n",
       "  background-color: #034973;\n",
       "  color: #f1f1f1;\n",
       "}\n",
       "#T_6676d_row2_col3 {\n",
       "  background-color: #04598c;\n",
       "  color: #f1f1f1;\n",
       "}\n",
       "#T_6676d_row3_col3 {\n",
       "  background-color: #045f95;\n",
       "  color: #f1f1f1;\n",
       "}\n",
       "#T_6676d_row4_col3 {\n",
       "  background-color: #0d75b3;\n",
       "  color: #f1f1f1;\n",
       "}\n",
       "#T_6676d_row5_col3 {\n",
       "  background-color: #1b7eb7;\n",
       "  color: #f1f1f1;\n",
       "}\n",
       "#T_6676d_row6_col3 {\n",
       "  background-color: #faf3f9;\n",
       "  color: #000000;\n",
       "}\n",
       "#T_6676d_row7_col3 {\n",
       "  background-color: #fef6fa;\n",
       "  color: #000000;\n",
       "}\n",
       "#T_6676d_row8_col3 {\n",
       "  background-color: #fff7fb;\n",
       "  color: #000000;\n",
       "}\n",
       "</style>\n",
       "<table id=\"T_6676d\">\n",
       "  <thead>\n",
       "    <tr>\n",
       "      <th class=\"blank\" >&nbsp;</th>\n",
       "      <th class=\"blank level0\" >&nbsp;</th>\n",
       "      <th id=\"T_6676d_level0_col0\" class=\"col_heading level0 col0\" >accuracy</th>\n",
       "      <th id=\"T_6676d_level0_col1\" class=\"col_heading level0 col1\" >sleep_precision</th>\n",
       "      <th id=\"T_6676d_level0_col2\" class=\"col_heading level0 col2\" >sleep_recall</th>\n",
       "      <th id=\"T_6676d_level0_col3\" class=\"col_heading level0 col3\" >sleep_f1_score</th>\n",
       "    </tr>\n",
       "    <tr>\n",
       "      <th class=\"index_name level0\" >max_depth</th>\n",
       "      <th class=\"index_name level1\" >min_child_weight</th>\n",
       "      <th class=\"blank col0\" >&nbsp;</th>\n",
       "      <th class=\"blank col1\" >&nbsp;</th>\n",
       "      <th class=\"blank col2\" >&nbsp;</th>\n",
       "      <th class=\"blank col3\" >&nbsp;</th>\n",
       "    </tr>\n",
       "  </thead>\n",
       "  <tbody>\n",
       "    <tr>\n",
       "      <th id=\"T_6676d_level0_row0\" class=\"row_heading level0 row0\" >6</th>\n",
       "      <th id=\"T_6676d_level1_row0\" class=\"row_heading level1 row0\" >250</th>\n",
       "      <td id=\"T_6676d_row0_col0\" class=\"data row0 col0\" >0.8527</td>\n",
       "      <td id=\"T_6676d_row0_col1\" class=\"data row0 col1\" >0.8862</td>\n",
       "      <td id=\"T_6676d_row0_col2\" class=\"data row0 col2\" >0.9172</td>\n",
       "      <td id=\"T_6676d_row0_col3\" class=\"data row0 col3\" >0.9014</td>\n",
       "    </tr>\n",
       "    <tr>\n",
       "      <th id=\"T_6676d_level0_row1\" class=\"row_heading level0 row1\" rowspan=\"2\">8</th>\n",
       "      <th id=\"T_6676d_level1_row1\" class=\"row_heading level1 row1\" >250</th>\n",
       "      <td id=\"T_6676d_row1_col0\" class=\"data row1 col0\" >0.8593</td>\n",
       "      <td id=\"T_6676d_row1_col1\" class=\"data row1 col1\" >0.8846</td>\n",
       "      <td id=\"T_6676d_row1_col2\" class=\"data row1 col2\" >0.9178</td>\n",
       "      <td id=\"T_6676d_row1_col3\" class=\"data row1 col3\" >0.9009</td>\n",
       "    </tr>\n",
       "    <tr>\n",
       "      <th id=\"T_6676d_level1_row2\" class=\"row_heading level1 row2\" >200</th>\n",
       "      <td id=\"T_6676d_row2_col0\" class=\"data row2 col0\" >0.8540</td>\n",
       "      <td id=\"T_6676d_row2_col1\" class=\"data row2 col1\" >0.8846</td>\n",
       "      <td id=\"T_6676d_row2_col2\" class=\"data row2 col2\" >0.9169</td>\n",
       "      <td id=\"T_6676d_row2_col3\" class=\"data row2 col3\" >0.9005</td>\n",
       "    </tr>\n",
       "    <tr>\n",
       "      <th id=\"T_6676d_level0_row3\" class=\"row_heading level0 row3\" rowspan=\"2\">6</th>\n",
       "      <th id=\"T_6676d_level1_row3\" class=\"row_heading level1 row3\" >200</th>\n",
       "      <td id=\"T_6676d_row3_col0\" class=\"data row3 col0\" >0.8587</td>\n",
       "      <td id=\"T_6676d_row3_col1\" class=\"data row3 col1\" >0.8857</td>\n",
       "      <td id=\"T_6676d_row3_col2\" class=\"data row3 col2\" >0.9153</td>\n",
       "      <td id=\"T_6676d_row3_col3\" class=\"data row3 col3\" >0.9003</td>\n",
       "    </tr>\n",
       "    <tr>\n",
       "      <th id=\"T_6676d_level1_row4\" class=\"row_heading level1 row4\" >300</th>\n",
       "      <td id=\"T_6676d_row4_col0\" class=\"data row4 col0\" >0.8534</td>\n",
       "      <td id=\"T_6676d_row4_col1\" class=\"data row4 col1\" >0.8839</td>\n",
       "      <td id=\"T_6676d_row4_col2\" class=\"data row4 col2\" >0.9153</td>\n",
       "      <td id=\"T_6676d_row4_col3\" class=\"data row4 col3\" >0.8993</td>\n",
       "    </tr>\n",
       "    <tr>\n",
       "      <th id=\"T_6676d_level0_row5\" class=\"row_heading level0 row5\" >8</th>\n",
       "      <th id=\"T_6676d_level1_row5\" class=\"row_heading level1 row5\" >300</th>\n",
       "      <td id=\"T_6676d_row5_col0\" class=\"data row5 col0\" >0.8512</td>\n",
       "      <td id=\"T_6676d_row5_col1\" class=\"data row5 col1\" >0.8830</td>\n",
       "      <td id=\"T_6676d_row5_col2\" class=\"data row5 col2\" >0.9157</td>\n",
       "      <td id=\"T_6676d_row5_col3\" class=\"data row5 col3\" >0.8991</td>\n",
       "    </tr>\n",
       "    <tr>\n",
       "      <th id=\"T_6676d_level0_row6\" class=\"row_heading level0 row6\" rowspan=\"3\">2</th>\n",
       "      <th id=\"T_6676d_level1_row6\" class=\"row_heading level1 row6\" >250</th>\n",
       "      <td id=\"T_6676d_row6_col0\" class=\"data row6 col0\" >0.8677</td>\n",
       "      <td id=\"T_6676d_row6_col1\" class=\"data row6 col1\" >0.8852</td>\n",
       "      <td id=\"T_6676d_row6_col2\" class=\"data row6 col2\" >0.9029</td>\n",
       "      <td id=\"T_6676d_row6_col3\" class=\"data row6 col3\" >0.8940</td>\n",
       "    </tr>\n",
       "    <tr>\n",
       "      <th id=\"T_6676d_level1_row7\" class=\"row_heading level1 row7\" >300</th>\n",
       "      <td id=\"T_6676d_row7_col0\" class=\"data row7 col0\" >0.8691</td>\n",
       "      <td id=\"T_6676d_row7_col1\" class=\"data row7 col1\" >0.8852</td>\n",
       "      <td id=\"T_6676d_row7_col2\" class=\"data row7 col2\" >0.9026</td>\n",
       "      <td id=\"T_6676d_row7_col3\" class=\"data row7 col3\" >0.8938</td>\n",
       "    </tr>\n",
       "    <tr>\n",
       "      <th id=\"T_6676d_level1_row8\" class=\"row_heading level1 row8\" >200</th>\n",
       "      <td id=\"T_6676d_row8_col0\" class=\"data row8 col0\" >0.8688</td>\n",
       "      <td id=\"T_6676d_row8_col1\" class=\"data row8 col1\" >0.8858</td>\n",
       "      <td id=\"T_6676d_row8_col2\" class=\"data row8 col2\" >0.9018</td>\n",
       "      <td id=\"T_6676d_row8_col3\" class=\"data row8 col3\" >0.8937</td>\n",
       "    </tr>\n",
       "  </tbody>\n",
       "</table>\n"
      ],
      "text/plain": [
       "<pandas.io.formats.style.Styler at 0x7fbf530df070>"
      ]
     },
     "execution_count": 137,
     "metadata": {},
     "output_type": "execute_result"
    }
   ],
   "source": [
    "results_pd.sort_values(by=\"sleep_f1_score\", ascending=False).style.format(precision=4).background_gradient(subset=[\"sleep_f1_score\"], axis=0)"
   ]
  },
  {
   "cell_type": "markdown",
   "id": "4c44701d-38a9-45f2-86de-e83be6b1c07e",
   "metadata": {},
   "source": [
    "The best sleep F1 score is obtained for XGBoost model with max_depth=6 and min_chimld_weight=250.\n",
    "\n",
    "Our best sleep F1 score is equal to <b>0.9014</b>. \n",
    "- That's an improvement from the best DT of 0.8781."
   ]
  },
  {
   "cell_type": "markdown",
   "id": "2161e6ee-bc30-4a57-a0f5-21eee92c2124",
   "metadata": {},
   "source": [
    "### Feature importance"
   ]
  },
  {
   "cell_type": "code",
   "execution_count": 151,
   "id": "30c88515-678c-4485-a8ae-54ee899c15db",
   "metadata": {},
   "outputs": [
    {
     "data": {
      "image/png": "[encoded data removed]",
      "text/plain": [
       "<Figure size 640x480 with 1 Axes>"
      ]
     },
     "metadata": {},
     "output_type": "display_data"
    }
   ],
   "source": [
    "plot_importance(model, max_num_features=10, importance_type=\"weight\");"
   ]
  },
  {
   "cell_type": "code",
   "execution_count": 148,
   "id": "b9a3ff50-3711-4d7c-b303-3875a93edf5c",
   "metadata": {},
   "outputs": [
    {
     "data": {
      "image/png": "[encoded data removed]",
      "text/plain": [
       "<Figure size 640x480 with 1 Axes>"
      ]
     },
     "metadata": {},
     "output_type": "display_data"
    }
   ],
   "source": [
    "plot_importance(model, max_num_features=10, importance_type=\"gain\");"
   ]
  },
  {
   "cell_type": "code",
   "execution_count": 154,
   "id": "a4442916-b9bb-4b5e-9ff3-e6f276b3114b",
   "metadata": {},
   "outputs": [
    {
     "data": {
      "image/png": "[encoded data removed]",
      "text/plain": [
       "<Figure size 640x480 with 1 Axes>"
      ]
     },
     "metadata": {},
     "output_type": "display_data"
    }
   ],
   "source": [
    "plot_importance(model, max_num_features=10, importance_type=\"cover\");"
   ]
  },
  {
   "cell_type": "code",
   "execution_count": 155,
   "id": "5d68c464-491f-4d0c-976e-5dbc9b7ee5cb",
   "metadata": {},
   "outputs": [],
   "source": [
    "features_importance_weight = model.get_score(importance_type='weight')\n",
    "features_importance_gain = model.get_score(importance_type='gain')\n",
    "features_importance_cover = model.get_score(importance_type='cover')"
   ]
  },
  {
   "cell_type": "markdown",
   "id": "1ec3de62-61e1-4cc6-b76b-6781e00715a3",
   "metadata": {},
   "source": [
    "### Test set performance"
   ]
  },
  {
   "cell_type": "code",
   "execution_count": 140,
   "id": "5e753dfb-e7cb-4d29-9c18-89f3337a88b7",
   "metadata": {},
   "outputs": [],
   "source": [
    "y_test_proba = model.predict(dtest)\n",
    "y_test_pred = np.argmax(y_test_proba, axis=1)"
   ]
  },
  {
   "cell_type": "code",
   "execution_count": 141,
   "id": "8ad829a6-3580-4b49-b23a-6f0299e1ec7c",
   "metadata": {},
   "outputs": [],
   "source": [
    "accuracy = sum(y_test == y_test_pred) / y_pred.size\n",
    "sleep_precision, sleep_recall, f1_score = calculate_metrics(y_test_pred,y_test,target=1)"
   ]
  },
  {
   "cell_type": "code",
   "execution_count": 142,
   "id": "a1855203-9876-4169-87d8-449212f6fdcc",
   "metadata": {},
   "outputs": [
    {
     "name": "stdout",
     "output_type": "stream",
     "text": [
      "Accuracy: \t\t 0.817\n",
      "Sleep precision: \t 0.869\n",
      "Sleep recall: \t\t 0.936 \n",
      "Sleep F1 score: \t 0.899\n"
     ]
    }
   ],
   "source": [
    "print(\n",
    "    f\"Accuracy: \\t\\t {accuracy.round(3)}\"\n",
    "    f\"\\nSleep precision: \\t {sleep_precision.round(3)}\" \n",
    "    f\"\\nSleep recall: \\t\\t {sleep_recall.round(3)} \"\n",
    "    f\"\\nSleep F1 score: \\t {sleep_f1_score.round(3)}\"\n",
    ")"
   ]
  },
  {
   "cell_type": "markdown",
   "id": "141d2db3-f408-4b97-99ee-3178448a7618",
   "metadata": {},
   "source": [
    "#### Summary\n",
    "- Test set sleep F1 score is similar to the one of validation set.\n",
    "- Recall is a bit higher and precision is a bit lower.\n",
    "- Accuracy is a bit lower but this is not a large difference."
   ]
  },
  {
   "cell_type": "markdown",
   "id": "a3918046-91c8-4bea-a1b9-5a43bd0dcf74",
   "metadata": {},
   "source": [
    "### Saving best model"
   ]
  },
  {
   "cell_type": "code",
   "execution_count": 167,
   "id": "98b98c59-b00e-47ab-97d0-331187f0563d",
   "metadata": {},
   "outputs": [],
   "source": [
    "model_file_name = \"sleep_detection_model_xgb.bin\"\n",
    "pickle.dump(model, open(model_file_name, 'wb'))"
   ]
  },
  {
   "cell_type": "markdown",
   "id": "3deee68f-b667-4c84-aa99-4ecfc2648314",
   "metadata": {},
   "source": [
    "Later to load it we can run the below code\n",
    "\n",
    "```python\n",
    "model_file_name = \"sleep_detection_model_xgb.bin\"\n",
    "with open(model_file_name, 'rb') as mof_in:\n",
    "    model = pickle.load(mof_in)\n",
    "```"
   ]
  }
 ],
 "metadata": {
  "kernelspec": {
   "display_name": "Python 3 (ipykernel)",
   "language": "python",
   "name": "python3"
  },
  "language_info": {
   "codemirror_mode": {
    "name": "ipython",
    "version": 3
   },
   "file_extension": ".py",
   "mimetype": "text/x-python",
   "name": "python",
   "nbconvert_exporter": "python",
   "pygments_lexer": "ipython3",
   "version": "3.9.18"
  }
 },
 "nbformat": 4,
 "nbformat_minor": 5
}
